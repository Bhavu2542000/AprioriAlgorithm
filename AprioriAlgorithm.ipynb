{
  "nbformat": 4,
  "nbformat_minor": 0,
  "metadata": {
    "colab": {
      "provenance": [],
      "authorship_tag": "ABX9TyNtXYD+Mj7JIW+iYWhZ2R65",
      "include_colab_link": true
    },
    "kernelspec": {
      "name": "python3",
      "display_name": "Python 3"
    },
    "language_info": {
      "name": "python"
    }
  },
  "cells": [
    {
      "cell_type": "markdown",
      "metadata": {
        "id": "view-in-github",
        "colab_type": "text"
      },
      "source": [
        "<a href=\"https://colab.research.google.com/github/Bhavu2542000/AprioriAlgorithm/blob/main/AprioriAlgorithm.ipynb\" target=\"_parent\"><img src=\"https://colab.research.google.com/assets/colab-badge.svg\" alt=\"Open In Colab\"/></a>"
      ]
    },
    {
      "cell_type": "code",
      "source": [
        "from mlxtend.frequent_patterns import apriori\n",
        "from mlxtend.frequent_patterns import association_rules\n",
        "import pandas as pd\n",
        "\n",
        "# Sample transaction data\n",
        "data = {\n",
        "    'CustomerID': [1, 1, 1, 2, 2, 3, 3, 4, 4, 4, 5, 5],\n",
        "    'Item': ['Shoes', 'Shirt', 'Jeans', 'Shirt', 'Tie', 'Shoes', 'Jacket', 'Shirt', 'Jeans', 'Jacket', 'Shoes', 'Shirt']\n",
        "}\n",
        "\n",
        "df = pd.DataFrame(data)\n",
        "\n",
        "# Convert data into one-hot encoded format\n",
        "basket = pd.crosstab(df['CustomerID'], df['Item']).astype(bool).astype(int)\n",
        "\n",
        "# Apply Apriori algorithm\n",
        "frequent_itemsets = apriori(basket, min_support=0.2, use_colnames=True)\n",
        "\n",
        "# Generate association rules\n",
        "rules = association_rules(frequent_itemsets, metric='lift', min_threshold=1.0)\n",
        "\n",
        "print(\"Frequent Itemsets:\")\n",
        "print(frequent_itemsets)\n",
        "\n",
        "print(\"\\nAssociation Rules:\")\n",
        "print(rules)\n"
      ],
      "metadata": {
        "colab": {
          "base_uri": "https://localhost:8080/"
        },
        "id": "rsVryIPyOwAc",
        "outputId": "a319f22e-ce29-4baf-eda3-e5002e25c6ce"
      },
      "execution_count": 3,
      "outputs": [
        {
          "output_type": "stream",
          "name": "stdout",
          "text": [
            "Frequent Itemsets:\n",
            "    support                itemsets\n",
            "0       0.4                (Jacket)\n",
            "1       0.4                 (Jeans)\n",
            "2       0.8                 (Shirt)\n",
            "3       0.6                 (Shoes)\n",
            "4       0.2                   (Tie)\n",
            "5       0.2         (Jacket, Jeans)\n",
            "6       0.2         (Jacket, Shirt)\n",
            "7       0.2         (Jacket, Shoes)\n",
            "8       0.4          (Shirt, Jeans)\n",
            "9       0.2          (Shoes, Jeans)\n",
            "10      0.4          (Shirt, Shoes)\n",
            "11      0.2            (Shirt, Tie)\n",
            "12      0.2  (Jacket, Shirt, Jeans)\n",
            "13      0.2   (Shirt, Shoes, Jeans)\n",
            "\n",
            "Association Rules:\n",
            "        antecedents      consequents  antecedent support  consequent support  \\\n",
            "0          (Jacket)          (Jeans)                 0.4                 0.4   \n",
            "1           (Jeans)         (Jacket)                 0.4                 0.4   \n",
            "2           (Shirt)          (Jeans)                 0.8                 0.4   \n",
            "3           (Jeans)          (Shirt)                 0.4                 0.8   \n",
            "4           (Shirt)            (Tie)                 0.8                 0.2   \n",
            "5             (Tie)          (Shirt)                 0.2                 0.8   \n",
            "6   (Jacket, Shirt)          (Jeans)                 0.2                 0.4   \n",
            "7   (Jacket, Jeans)          (Shirt)                 0.2                 0.8   \n",
            "8    (Shirt, Jeans)         (Jacket)                 0.4                 0.4   \n",
            "9          (Jacket)   (Shirt, Jeans)                 0.4                 0.4   \n",
            "10          (Shirt)  (Jacket, Jeans)                 0.8                 0.2   \n",
            "11          (Jeans)  (Jacket, Shirt)                 0.4                 0.2   \n",
            "12   (Shirt, Shoes)          (Jeans)                 0.4                 0.4   \n",
            "13   (Jeans, Shoes)          (Shirt)                 0.2                 0.8   \n",
            "14          (Shirt)   (Jeans, Shoes)                 0.8                 0.2   \n",
            "15          (Jeans)   (Shirt, Shoes)                 0.4                 0.4   \n",
            "\n",
            "    support  confidence  lift  leverage  conviction  zhangs_metric  \n",
            "0       0.2        0.50  1.25      0.04    1.200000       0.333333  \n",
            "1       0.2        0.50  1.25      0.04    1.200000       0.333333  \n",
            "2       0.4        0.50  1.25      0.08    1.200000       1.000000  \n",
            "3       0.4        1.00  1.25      0.08         inf       0.333333  \n",
            "4       0.2        0.25  1.25      0.04    1.066667       1.000000  \n",
            "5       0.2        1.00  1.25      0.04         inf       0.250000  \n",
            "6       0.2        1.00  2.50      0.12         inf       0.750000  \n",
            "7       0.2        1.00  1.25      0.04         inf       0.250000  \n",
            "8       0.2        0.50  1.25      0.04    1.200000       0.333333  \n",
            "9       0.2        0.50  1.25      0.04    1.200000       0.333333  \n",
            "10      0.2        0.25  1.25      0.04    1.066667       1.000000  \n",
            "11      0.2        0.50  2.50      0.12    1.600000       1.000000  \n",
            "12      0.2        0.50  1.25      0.04    1.200000       0.333333  \n",
            "13      0.2        1.00  1.25      0.04         inf       0.250000  \n",
            "14      0.2        0.25  1.25      0.04    1.066667       1.000000  \n",
            "15      0.2        0.50  1.25      0.04    1.200000       0.333333  \n"
          ]
        },
        {
          "output_type": "stream",
          "name": "stderr",
          "text": [
            "/usr/local/lib/python3.10/dist-packages/ipykernel/ipkernel.py:283: DeprecationWarning: `should_run_async` will not call `transform_cell` automatically in the future. Please pass the result to `transformed_cell` argument and any exception that happen during thetransform in `preprocessing_exc_tuple` in IPython 7.17 and above.\n",
            "  and should_run_async(code)\n",
            "/usr/local/lib/python3.10/dist-packages/mlxtend/frequent_patterns/fpcommon.py:110: DeprecationWarning: DataFrames with non-bool types result in worse computationalperformance and their support might be discontinued in the future.Please use a DataFrame with bool type\n",
            "  warnings.warn(\n"
          ]
        }
      ]
    }
  ]
}